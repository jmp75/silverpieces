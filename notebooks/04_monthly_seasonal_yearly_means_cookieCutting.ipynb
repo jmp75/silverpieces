{
 "cells": [
  {
   "cell_type": "markdown",
   "metadata": {},
   "source": [
    "## Use case: statistical analysis\n",
    "Spatial or temporal averages for a defined time period and/or region on hydrology related data\n"
   ]
  },
  {
   "cell_type": "code",
   "execution_count": null,
   "metadata": {},
   "outputs": [],
   "source": [
    "import xarray as xr\n",
    "import os\n",
    "import sys\n",
    "import pandas as pd\n",
    "import numpy as np\n",
    "import yaml \n",
    "import geopandas\n",
    "\n",
    "import matplotlib.pyplot as plt"
   ]
  },
  {
   "cell_type": "code",
   "execution_count": null,
   "metadata": {},
   "outputs": [],
   "source": [
    "import seaborn as sns  # noqa, pandas aware plotting library"
   ]
  },
  {
   "cell_type": "code",
   "execution_count": null,
   "metadata": {},
   "outputs": [],
   "source": [
    "'SP_SRC' in os.environ\n",
    "sys.platform"
   ]
  },
  {
   "cell_type": "code",
   "execution_count": null,
   "metadata": {},
   "outputs": [],
   "source": [
    "if ('SP_SRC' in os.environ):\n",
    "    root_src_dir = os.environ['SP_SRC']\n",
    "elif sys.platform == 'win32':\n",
    "    root_src_dir = r'C:\\Users\\sin17h\\Documents\\silverpieces'\n",
    "else:\n",
    "    root_src_dir = '/home/sin17h/Documents/silverpieces'\n",
    "\n",
    "pkg_src_dir = root_src_dir\n",
    "sys.path.append(pkg_src_dir)"
   ]
  },
  {
   "cell_type": "code",
   "execution_count": null,
   "metadata": {},
   "outputs": [],
   "source": [
    "from silverpieces import *\n",
    "from silverpieces.functions import *"
   ]
  },
  {
   "cell_type": "code",
   "execution_count": null,
   "metadata": {},
   "outputs": [],
   "source": [
    "if ('SP_DATA' in os.environ):\n",
    "    root_data_dir = os.environ['SP_DATA']\n",
    "elif sys.platform == 'win32':\n",
    "    root_data_dir = r'C:\\Temp\\awraData\\base_files'\n",
    "else:\n",
    "    root_data_dir = '/home/sin17h/temp/awraData'\n"
   ]
  },
  {
   "cell_type": "code",
   "execution_count": null,
   "metadata": {},
   "outputs": [],
   "source": [
    "%matplotlib inline\n",
    "%config InlineBackend.figure_format = 'retina'\n",
    "# the default cmap_sequential for xarray is viridis. 'RdBu' is divergent, but works better for wetness concepts\n",
    "# # https://matplotlib.org/3.1.0/tutorials/colors/colormaps.html\n",
    "xr.set_options(cmap_sequential='coolwarm')"
   ]
  },
  {
   "cell_type": "code",
   "execution_count": null,
   "metadata": {},
   "outputs": [],
   "source": [
    "awra_daily_files_path = os.path.join(root_data_dir, 'e0_avg_*.nc')\n",
    "awra_daily = xr.open_mfdataset(awra_daily_files_path)"
   ]
  },
  {
   "cell_type": "code",
   "execution_count": null,
   "metadata": {},
   "outputs": [],
   "source": [
    "#we have loaded the complete daily AWRA Potential evapotranspiration (PET) dataset, from 1911 to 2105\n",
    "awra_daily"
   ]
  },
  {
   "cell_type": "code",
   "execution_count": null,
   "metadata": {},
   "outputs": [],
   "source": [
    "#plot PET for a particular day\n",
    "awra_daily.e0_avg.isel(time=30000).plot()"
   ]
  },
  {
   "cell_type": "code",
   "execution_count": null,
   "metadata": {},
   "outputs": [],
   "source": [
    "%%time\n",
    "#give me the monthly mean PET for the full period of the dataset. Takes around 3 secs to compute the stats\n",
    "\n",
    "\n",
    "#Provide a YML file \n",
    "ymlStr = \"\"\"Args: \n",
    "                            product: 'AWRA' #fill in the name of the test file created with dummy data\n",
    "                            timespan:\n",
    "                                startDate:  \n",
    "                                endDate:  \n",
    "                            variablename: 'e0_avg'\"\"\"\n",
    "args_file = yaml.safe_load(ymlStr)\n",
    "args_file['Args']['product'] = awra_daily_files_path\n",
    "awra_monthly_mean_full = monthly_mean(args_file)\n",
    "awra_monthly_mean_full"
   ]
  },
  {
   "cell_type": "code",
   "execution_count": null,
   "metadata": {},
   "outputs": [],
   "source": [
    "#plot monthly means for Dec 2015\n",
    "awra_monthly_mean_full.isel(time=1259).plot()"
   ]
  },
  {
   "cell_type": "code",
   "execution_count": null,
   "metadata": {},
   "outputs": [],
   "source": [
    "#plot monthly means for July 2015\n",
    "awra_monthly_mean_full.isel(time=1252).plot()"
   ]
  },
  {
   "cell_type": "code",
   "execution_count": null,
   "metadata": {},
   "outputs": [],
   "source": [
    "%%time\n",
    "awra_seasonal_mean_full = seasonal_mean(args_file)\n",
    "awra_seasonal_mean_full"
   ]
  },
  {
   "cell_type": "code",
   "execution_count": null,
   "metadata": {},
   "outputs": [],
   "source": [
    "#plot seasonal means for season ending in Feb,1912\n",
    "awra_seasonal_mean_full.isel(time=4).plot()"
   ]
  },
  {
   "cell_type": "code",
   "execution_count": null,
   "metadata": {},
   "outputs": [],
   "source": [
    "#plot seasonal means for season ending in Feb,2015\n",
    "awra_seasonal_mean_full.isel(time=416).plot()"
   ]
  },
  {
   "cell_type": "code",
   "execution_count": null,
   "metadata": {},
   "outputs": [],
   "source": [
    "#plot the difference in seasonal mean for season ending Feb, 2015 and Feb, 1912\n",
    "(awra_seasonal_mean_full.isel(time=416) - awra_seasonal_mean_full.isel(time=4)).plot()"
   ]
  },
  {
   "cell_type": "code",
   "execution_count": null,
   "metadata": {},
   "outputs": [],
   "source": [
    "awra_seasonal_mean_full_condensed = awra_seasonal_mean_full.groupby('time.season').mean(dim='time')\n",
    "awra_seasonal_mean_full_condensed"
   ]
  },
  {
   "cell_type": "code",
   "execution_count": null,
   "metadata": {},
   "outputs": [],
   "source": [
    "##plotting the condensed seasonal mean, either single plot or facet, takes very long time. \n",
    "#I waited for 6 minutes before cancelling\n",
    "\n",
    "#awra_seasonal_mean_full_condensed.isel(season=1).plot()\n",
    "#awra_seasonal_mean_full_condensed.plot.imshow(col='season', robust=True)"
   ]
  },
  {
   "cell_type": "code",
   "execution_count": null,
   "metadata": {},
   "outputs": [],
   "source": [
    "awra_yearly_mean_full = yearly_mean(args_file)\n",
    "awra_yearly_mean_full"
   ]
  },
  {
   "cell_type": "code",
   "execution_count": null,
   "metadata": {},
   "outputs": [],
   "source": [
    "#plot yearly mean for 2015\n",
    "awra_yearly_mean_full.isel(time=104).plot()"
   ]
  },
  {
   "cell_type": "code",
   "execution_count": null,
   "metadata": {},
   "outputs": [],
   "source": [
    "#plot yearly mean difference for year 2015 and 1990\n",
    "(awra_yearly_mean_full.isel(time=104) - awra_yearly_mean_full.isel(time=79)).plot()"
   ]
  },
  {
   "cell_type": "code",
   "execution_count": null,
   "metadata": {},
   "outputs": [],
   "source": [
    "#now cookie-cut the Fritzroy catchment region \n",
    "#Provide a YML file \n",
    "ymlStr = \"\"\"Args: \n",
    "                            product: 'AWRA' #fill in the name of the test file created with dummy data\n",
    "                            timespan:\n",
    "                                startDate:  \n",
    "                                endDate:  \n",
    "                            shape_file:  \n",
    "                            variablename: 'e0_avg'\"\"\"\n",
    "args_file = yaml.safe_load(ymlStr)\n",
    "args_file['Args']['product'] = awra_daily_files_path\n",
    "\n",
    "shape_file_path = r'C:\\Temp\\shapefile_forTest\\Fitzroy_GEE_prospective_GW_aquifers_v02.shp'\n",
    "args_file['Args']['shape_file'] = shape_file_path\n",
    "\n",
    "awra_fitzroy_monthly_mean_full = monthly_mean(args_file)\n",
    "awra_fitzroy_monthly_mean_full"
   ]
  },
  {
   "cell_type": "code",
   "execution_count": null,
   "metadata": {},
   "outputs": [],
   "source": [
    "#plot monthly means Fitzroy for Dec 2015\n",
    "awra_fitzroy_monthly_mean_full.isel(time=1259).plot()"
   ]
  },
  {
   "cell_type": "code",
   "execution_count": null,
   "metadata": {},
   "outputs": [],
   "source": [
    "#you can also filter based on a date range\n",
    "#Provide a YML file \n",
    "ymlStr = \"\"\"Args: \n",
    "                            product: 'AWRA' #fill in the name of the test file created with dummy data\n",
    "                            timespan:\n",
    "                                startDate: 2015-01-01 \n",
    "                                endDate:  2015-12-31\n",
    "                            shape_file:  \n",
    "                            variablename: 'e0_avg'\"\"\"\n",
    "args_file = yaml.safe_load(ymlStr)\n",
    "args_file['Args']['product'] = awra_daily_files_path\n",
    "awra_monthly_mean_daterange = monthly_mean(args_file)\n",
    "awra_monthly_mean_daterange"
   ]
  },
  {
   "cell_type": "code",
   "execution_count": null,
   "metadata": {},
   "outputs": [],
   "source": [
    "#Facet grid of plots of monthly means of year 2015\n",
    "awra_monthly_mean_daterange.plot.imshow(col='time', robust=True, col_wrap=3)"
   ]
  },
  {
   "cell_type": "code",
   "execution_count": null,
   "metadata": {},
   "outputs": [],
   "source": [
    "#cookie cut with geojson files\n",
    "df = geopandas.read_file(r'C:\\Temp\\shapefile_forTest\\Fitzroy_GEE_prospective_GW_aquifers_v02.geojson')"
   ]
  },
  {
   "cell_type": "code",
   "execution_count": null,
   "metadata": {},
   "outputs": [],
   "source": [
    "df.crs"
   ]
  },
  {
   "cell_type": "code",
   "execution_count": null,
   "metadata": {},
   "outputs": [],
   "source": [
    "df.plot()"
   ]
  },
  {
   "cell_type": "code",
   "execution_count": null,
   "metadata": {},
   "outputs": [],
   "source": [
    "#if we want to use salem with GeoJSON, we have to then write the shp file as an intermediate file to disk, \n",
    "#read it back then and proceed with cookie-cutting. GeoPandas does not allow writting the file to memory buffer\n",
    "#which could \n",
    "\n",
    "#df.to_file(r\"C:\\Temp\\shapefile_forTest\\geojson_to_shape.shp\")\n",
    "salem.read_shapefile(r\"C:\\Temp\\shapefile_forTest\\geojson_to_shape.shp\")"
   ]
  },
  {
   "cell_type": "code",
   "execution_count": null,
   "metadata": {},
   "outputs": [],
   "source": [
    "result_mask = functions.cookie_cut_shapefile(awra_daily, 'Fitzroy_GEE_prospective_GW_aquifers_v02.shp')"
   ]
  }
 ],
 "metadata": {
  "kernelspec": {
   "display_name": "Python 3",
   "language": "python",
   "name": "python3"
  },
  "language_info": {
   "codemirror_mode": {
    "name": "ipython",
    "version": 3
   },
   "file_extension": ".py",
   "mimetype": "text/x-python",
   "name": "python",
   "nbconvert_exporter": "python",
   "pygments_lexer": "ipython3",
   "version": "3.8.5"
  }
 },
 "nbformat": 4,
 "nbformat_minor": 4
}
